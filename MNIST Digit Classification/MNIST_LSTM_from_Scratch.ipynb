{
  "nbformat": 4,
  "nbformat_minor": 0,
  "metadata": {
    "colab": {
      "name": "MNIST_LSTM_from_Scratch.ipynb",
      "provenance": [],
      "collapsed_sections": []
    },
    "kernelspec": {
      "name": "python3",
      "display_name": "Python 3"
    },
    "language_info": {
      "name": "python"
    }
  },
  "cells": [
    {
      "cell_type": "markdown",
      "source": [
        "# Many to One - Multi Layer - MNIST LSTM Model"
      ],
      "metadata": {
        "id": "MvK_atuLdwCk"
      }
    },
    {
      "cell_type": "code",
      "execution_count": 266,
      "metadata": {
        "id": "CqNHuQ0WbjTF"
      },
      "outputs": [],
      "source": [
        "import numpy as np\n",
        "%matplotlib inline\n",
        "import matplotlib.pyplot as plt\n",
        "from IPython import display\n",
        "plt.style.use('seaborn-white')\n",
        "import time"
      ]
    },
    {
      "cell_type": "code",
      "source": [
        "import signal\n",
        "\n",
        "class DelayedKeyboardInterrupt(object):\n",
        "    def __enter__(self):\n",
        "        self.signal_received = False\n",
        "        self.old_handler = signal.signal(signal.SIGINT, self.handler)\n",
        "\n",
        "    def handler(self, sig, frame):\n",
        "        self.signal_received = (sig, frame)\n",
        "        print('SIGINT received. Delaying KeyboardInterrupt.')\n",
        "\n",
        "    def __exit__(self, type, value, traceback):\n",
        "        signal.signal(signal.SIGINT, self.old_handler)\n",
        "        if self.signal_received:\n",
        "            self.old_handler(*self.signal_received)"
      ],
      "metadata": {
        "id": "fGtuhrZpHynK"
      },
      "execution_count": 267,
      "outputs": []
    },
    {
      "cell_type": "code",
      "source": [
        "# Create Parameter class to store weights, biases and their gradients (Similar to Tensor)\n",
        "class Parameter:\n",
        "  def __init__(self, name, value):\n",
        "    self.name = name\n",
        "    self.value = value #parameter value\n",
        "    self.grad = np.zeros_like(value) #derivative\n",
        "    self.m_grad = np.zeros_like(value) #momentum for AdaGrad (memory variables for Adagrad)\n",
        "\n",
        "  def __repr__(self):\n",
        "    return \"Parameter [name = \" + self.name + \", value.shape = \"+ str(self.value.shape) +\"]\"\n",
        "\n",
        "  def zero_grad(self):\n",
        "    self.grad = np.zeros_like(self.value)"
      ],
      "metadata": {
        "id": "TIBBNWMdbufN"
      },
      "execution_count": 268,
      "outputs": []
    },
    {
      "cell_type": "code",
      "source": [
        "class LSTM_Parameters:\n",
        "  def __init__ (self, hidden_size, input_size, output_size):\n",
        "    self.W_f = Parameter('W_f', np.random.randn(hidden_size, input_size+hidden_size)*0.01)#INPUT to hidden layer of forgot gate [input_size+hidden_size, hidden_size]\n",
        "    self.W_i = Parameter('W_i', np.random.randn(hidden_size, input_size+hidden_size)*0.01) #INPUT to hidden layer of input gate [input_size+hidden_size, hidden_size]\n",
        "    self.W_g = Parameter('W_g', np.random.randn(hidden_size, input_size+hidden_size)*0.01) #INPUT to hidden layer of  gate [input_size+hidden_size, hidden_size]\n",
        "    self.W_o = Parameter('W_o', np.random.randn(hidden_size, input_size+hidden_size)*0.01) #INPUT to hidden layer of output gate [input_size+hidden_size, hidden_size]\n",
        "    self.W_hy = Parameter('W_hy', np.random.randn(output_size, hidden_size)*0.01) #hidden to output [hidden_size, input_size]\n",
        "\n",
        "    self.b_f = Parameter('b_f',np.zeros((hidden_size, 1)))  #(hidden_size X 1)\n",
        "    self.b_i = Parameter('b_i',np.zeros((hidden_size, 1)))  #(hidden_size X 1)\n",
        "    self.b_g = Parameter('b_g',np.zeros((hidden_size, 1)))  #(hidden_size X 1)\n",
        "    self.b_o = Parameter('b_o',np.zeros((hidden_size, 1)))  #(hidden_size X 1)\n",
        "    self.b_hy = Parameter('b_hy',np.zeros((output_size,1))) #output layer bias [hidden_size,1]\n",
        "  \n",
        "  def zero_grad(self):\n",
        "    for p in [self.W_f, self.W_i, self.W_g, self.W_o, self.W_hy,self.b_f, self.b_i, self.b_g, self.b_o, self.b_hy]:\n",
        "      p.zero_grad()\n",
        "  \n",
        "  def clip_grad(self):\n",
        "    for g in [self.W_f, self.W_i, self.W_g, self.W_o, self.W_hy,self.b_f, self.b_i, self.b_g, self.b_o, self.b_hy]:\n",
        "      np.clip(g.grad, -1, 1, out=g.grad) # clip to mitigate exploding gradients\n",
        "  \n",
        "  def adagrad_optimizer(self, learning_rate = 1e-1):\n",
        "    for p in [self.W_f, self.W_i, self.W_g, self.W_o, self.W_hy,self.b_f, self.b_i, self.b_g, self.b_o, self.b_hy]:\n",
        "      p.m_grad += p.grad * p.grad\n",
        "      p.value += -learning_rate * p.grad / np.sqrt(p.m_grad + 1e-8) # adagrad update\n",
        "      "
      ],
      "metadata": {
        "id": "q4WNzqAd8vDE"
      },
      "execution_count": 269,
      "outputs": []
    },
    {
      "cell_type": "code",
      "source": [
        "# LSTM Class to store all the weights and biases\n",
        "class LSTM:\n",
        "  def __init__(self, hidden_size, input_size, output_size, sequence_length, learning_rate = 1e-1, weight_sd = 0.1, lstm_layers = 1):\n",
        "    self.hidden_size = hidden_size\n",
        "    self.input_size = input_size\n",
        "    self.output_size = output_size\n",
        "    self.sequence_length = sequence_length;\n",
        "    self.learning_rate = learning_rate;\n",
        "    self.weight_sd = weight_sd;\n",
        "    self.lstm_layers = lstm_layers;\n",
        "    self.lstm_parameters = []\n",
        "    self.lstm_parameters.append(LSTM_Parameters(hidden_size, input_size, output_size))\n",
        "\n",
        "    for i in range(1,lstm_layers):\n",
        "      self.lstm_parameters.append(LSTM_Parameters(hidden_size, hidden_size, output_size))\n",
        "    \n",
        "    self.plot_iter = np.zeros((0))\n",
        "    self.plot_loss = np.zeros((0))\n",
        "    self.smt_loss = np.zeros((0))\n",
        "\n",
        "    self.train_accuracy = np.zeros((0))\n",
        "    self.test_accuracy = np.zeros((0))\n",
        "\n",
        "\n",
        "  def __repr__(self):\n",
        "    return \"LSTM: [input_size = \"+str(self.input_size) +\", hidden_size = \"+ str(self.hidden_size)+\", sequence_length = \"+str(self.sequence_length)+\", lstm_layers = \"+str(self.lstm_layers)+\", learning_rate = \"+str(self.learning_rate)+\"]\"\n",
        "  \n",
        "  def zero_grads(self):\n",
        "    for i in range(self.lstm_layers):\n",
        "      self.lstm_parameters[i].zero_grad()\n",
        "  \n",
        "  def clip_grads(self):\n",
        "    for i in range(self.lstm_layers):\n",
        "      self.lstm_parameters[i].clip_grad()\n",
        "\n",
        "  def adagrad_optimizer(self):\n",
        "    for i in range(self.lstm_layers):\n",
        "      self.lstm_parameters[i].adagrad_optimizer()\n",
        "\n",
        "  # Sigmoid Function:\n",
        "  def sigmoid(self,x):\n",
        "    return 1 / (1 + np.exp(-x))\n",
        "  \n",
        "  def LSTM_cell_forward(self, input, h_prev, c_prev, layer):\n",
        "    # Stack h and x together\n",
        "    input = input.reshape((input.shape[0], 1))\n",
        "\n",
        "    inp = np.vstack((h_prev, input)) # h before x\n",
        "\n",
        "\n",
        "    # Forward Pass through four gates of LSTM\n",
        "    f = self.sigmoid(np.dot(self.lstm_parameters[layer].W_f.value, inp) + self.lstm_parameters[layer].b_f.value)\n",
        "    i = self.sigmoid(np.dot(self.lstm_parameters[layer].W_i.value, inp) + self.lstm_parameters[layer].b_i.value)\n",
        "    g = np.tanh(np.dot(self.lstm_parameters[layer].W_g.value, inp) + self.lstm_parameters[layer].b_g.value)\n",
        "    o = self.sigmoid(np.dot(self.lstm_parameters[layer].W_o.value, inp)+self.lstm_parameters[layer].b_o.value)\n",
        "\n",
        "    # Calulate cell state: (Element Wise multiplication and addition)\n",
        "    c_t = np.multiply(c_prev, f) + np.multiply(i, g)\n",
        "    c_tanh = np.tanh(c_t)\n",
        "    h_t = np.multiply(c_tanh,o)   #ht generated for current timestemp (hidden_size X 1)\n",
        "\n",
        "    return h_t, c_t, f, i, g, o\n",
        "\n",
        "  def LSTM_cell_calculate_y(self, h_t, layer):\n",
        "    # Calculate y \n",
        "    y = np.dot(self.lstm_parameters[layer].W_hy.value, h_t) + self.lstm_parameters[layer].b_hy.value #y before passing through softmax function (input_size X 1)\n",
        "    \n",
        "    # softmax function:\n",
        "    p = np.exp(y) / np.sum(np.exp(y)) # (input_size X 1)\n",
        "    return y, p\n",
        "\n",
        "  def modified_forward(self, input, h_prev, c_prev):\n",
        "    h_t, c_t, f_t, i_t, g_t, o_t = np.empty(self.lstm_layers, dtype=object), np.empty(self.lstm_layers, dtype=object), np.empty(self.lstm_layers, dtype=object), np.empty(self.lstm_layers, dtype=object), np.empty(self.lstm_layers, dtype=object),np.empty(self.lstm_layers, dtype=object)\n",
        "    y = None\n",
        "    p = None\n",
        "\n",
        "    for i in range(self.lstm_layers):\n",
        "      h_t[i], c_t[i], f_t[i], i_t[i], g_t[i], o_t[i] = self.LSTM_cell_forward(input, h_prev[i], c_prev[i], i)\n",
        "      input = h_t[i]\n",
        "    \n",
        "    y, p = self.LSTM_cell_calculate_y(h_t[self.lstm_layers-1], self.lstm_layers-1)\n",
        "\n",
        "    return h_t, c_t, f_t, i_t, g_t, o_t, y, p\n",
        "\n",
        "\n",
        "  def modified_forward_MNIST(self, input, h_prev, c_prev, is_out):\n",
        "    h_t, c_t, f_t, i_t, g_t, o_t = np.empty(self.lstm_layers, dtype=object), np.empty(self.lstm_layers, dtype=object), np.empty(self.lstm_layers, dtype=object), np.empty(self.lstm_layers, dtype=object), np.empty(self.lstm_layers, dtype=object),np.empty(self.lstm_layers, dtype=object)\n",
        "    y = None\n",
        "    p = None\n",
        "\n",
        "    for i in range(self.lstm_layers):\n",
        "      h_t[i], c_t[i], f_t[i], i_t[i], g_t[i], o_t[i] = self.LSTM_cell_forward(input, h_prev[i], c_prev[i], i)\n",
        "      input = h_t[i]\n",
        "\n",
        "    if(is_out):\n",
        "      y, p = self.LSTM_cell_calculate_y(h_t[self.lstm_layers-1], self.lstm_layers-1)\n",
        "    \n",
        "    return h_t, c_t, f_t, i_t, g_t, o_t, y, p\n",
        "\n",
        "\n",
        "  def samle_LSTM_MNIST(self, input):\n",
        "    h_t = np.empty(self.lstm_layers, dtype=object)\n",
        "    c_t = np.empty(self.lstm_layers, dtype=object)\n",
        "    for i in range(self.lstm_layers):\n",
        "      h_t[i] = np.zeros((self.hidden_size,1))\n",
        "      c_t[i] = np.zeros((self.hidden_size,1))\n",
        "\n",
        "    for t in range(len(input)):\n",
        "      h_t, c_t, _, _, _, _, _, p = self.modified_forward_MNIST(input[t], h_t, c_t, (t == (len(input)-1)))\n",
        "\n",
        "    return np.random.choice(range(self.output_size), p=p.ravel())\n",
        "\n",
        "\n",
        "  def LSTM_cell_backpropogation(self,cs_prev, hs_prev, xs, o_s, f_s, g_s, i_s, cs, dh_next, dc_next, layer):\n",
        "    dc_tanh = dh_next * o_s # dL/dc_tanh\n",
        "    dct = dc_tanh*(1-(np.tanh(cs)**2)) + dc_next # dL/dct -->dct\n",
        "\n",
        "    dcnext = dct*f_s #dL/dc_(t-1)\n",
        "    xs = xs.reshape((xs.shape[0], 1))\n",
        "\n",
        "    inp = np.vstack((hs_prev, xs)) # h before x\n",
        "\n",
        "    #Output Gate\n",
        "    d_ot = dh_next*np.tanh(cs)\n",
        "    dW_o_row = d_ot * (o_s*(1-o_s))\n",
        "    self.lstm_parameters[layer].W_o.grad += np.dot(dW_o_row, inp.T)\n",
        "    self.lstm_parameters[layer].b_o.grad += dW_o_row\n",
        "\n",
        "    #Forget Gate\n",
        "    d_ft = dct*cs_prev\n",
        "    dW_f_row = d_ft * (f_s*(1-f_s))\n",
        "    self.lstm_parameters[layer].W_f.grad += np.dot(dW_f_row,inp.T)\n",
        "    self.lstm_parameters[layer].b_f.grad += dW_f_row\n",
        "\n",
        "    #Input Gate\n",
        "    d_it = dct*g_s\n",
        "    dW_i_row = d_it * (i_s*(1-i_s))\n",
        "    self.lstm_parameters[layer].W_i.grad += np.dot(dW_i_row,inp.T)\n",
        "    self.lstm_parameters[layer].b_i.grad += dW_i_row\n",
        "\n",
        "    #Activation Gate\n",
        "    d_gt = dct*i_s\n",
        "    dW_g_row = d_gt * (1-(g_s**2))\n",
        "    self.lstm_parameters[layer].W_g.grad += np.dot(dW_g_row,inp.T)\n",
        "    self.lstm_parameters[layer].b_g.grad += dW_g_row\n",
        "    \n",
        "    dhnext = np.dot(self.lstm_parameters[layer].W_o.value[:, 0:self.hidden_size].T, dW_o_row) + np.dot(self.lstm_parameters[layer].W_f.value[:, 0:self.hidden_size].T, dW_f_row) + np.dot(self.lstm_parameters[layer].W_i.value[:, 0:self.hidden_size].T, dW_i_row) + np.dot(self.lstm_parameters[layer].W_g.value[:, 0:self.hidden_size].T, dW_g_row)\n",
        "\n",
        "    dxnext = np.dot(self.lstm_parameters[layer].W_o.value[:, self.hidden_size:].T, dW_o_row) + np.dot(self.lstm_parameters[layer].W_f.value[:, self.hidden_size:].T, dW_f_row) + np.dot(self.lstm_parameters[layer].W_i.value[:, self.hidden_size:].T, dW_i_row) + np.dot(self.lstm_parameters[layer].W_g.value[:, self.hidden_size:].T, dW_g_row)\n",
        "\n",
        "    return dhnext, dcnext, dxnext\n",
        "\n",
        "\n",
        "  def modified_lossFun_LSTM_MNIST(self, input, target, hprev, cprev):\n",
        "    # Dictonary to store inputs, outputs, and probabilities on each state\n",
        "    xs, ys, ps = {}, {}, {}\n",
        "\n",
        "    #Dictonary of Array of Arrays to store hidden states, cell states, f, i,g,and o for each layer and state\n",
        "    hs, cs, f_s, i_s, g_s, o_s = {}, {}, {}, {}, {}, {}\n",
        "\n",
        "    #store the hidden state and cell state at time stemp t-1\n",
        "    hs[-1] = np.copy(hprev)\n",
        "    cs[-1] = np.copy(cprev)\n",
        "\n",
        "    # Initialize loss\n",
        "    loss = 0\n",
        "\n",
        "    # forward pass\n",
        "    for t in range(len(input)):\n",
        "      xs[t] = input[t]\n",
        "      # Forward pass:\n",
        "      hs[t], cs[t], f_s[t], i_s[t], g_s[t], o_s[t], ys[t], ps[t] = self.modified_forward_MNIST(xs[t], hs[t-1], cs[t-1], (t == (len(input)-1)))\n",
        "\n",
        "    #Cross Entropy Loss\n",
        "    loss += -np.log(ps[t][target,0]) # softmax (cross-entropy loss)\n",
        "\n",
        "    self.zero_grads()\n",
        "\n",
        "    dhnext = np.empty(self.lstm_layers, dtype=object)\n",
        "    dcnext = np.empty(self.lstm_layers, dtype=object)\n",
        "    for i in range(self.lstm_layers):\n",
        "      dhnext[i] = np.zeros((self.hidden_size,1)) # reset LSTM memory\n",
        "      dcnext[i] = np.zeros((self.hidden_size,1)) # reset LSTM cell memory\n",
        "\n",
        "    #Calculate Loss between actual and predicted\n",
        "    dy = np.copy(ps[t])\n",
        "    dy[target] -= 1\n",
        "    \n",
        "    # ht to y\n",
        "    self.lstm_parameters[self.lstm_layers-1].W_hy.grad += np.dot(dy, hs[t][self.lstm_layers-1].T) #dWhy += np.dot(Output_Delta, Hidden_Layer.T)\n",
        "    self.lstm_parameters[self.lstm_layers-1].b_hy.grad += dy # bias += sum(Output_Delta)\n",
        "\n",
        "    dhnext[self.lstm_layers-1] += np.dot(self.lstm_parameters[self.lstm_layers-1].W_hy.value.T, dy) # backprop into h ===> dL/dht --> dht\n",
        "\n",
        "\n",
        "    for t in reversed(range(len(input[0]))):      \n",
        "      for layer in reversed(range(1, self.lstm_layers)):\n",
        "        dhnext[layer], dcnext[layer], dxnext = self.LSTM_cell_backpropogation(cs[t-1][layer], \n",
        "                                                                      hs[t-1][layer],\n",
        "                                                                      hs[t][layer-1], \n",
        "                                                                      o_s[t][layer],\n",
        "                                                                      f_s[t][layer], \n",
        "                                                                      g_s[t][layer], \n",
        "                                                                      i_s[t][layer],\n",
        "                                                                      cs[t][layer], \n",
        "                                                                      dhnext[layer], \n",
        "                                                                      dcnext[layer], \n",
        "                                                                      layer)\n",
        "        dhnext[layer-1] += dxnext\n",
        "      \n",
        "      dhnext[0], dcnext[0],_ = self.LSTM_cell_backpropogation(cs[t-1][0], \n",
        "                                                                      hs[t-1][0],\n",
        "                                                                      xs[t], \n",
        "                                                                      o_s[t][0],\n",
        "                                                                      f_s[t][0], \n",
        "                                                                      g_s[t][0], \n",
        "                                                                      i_s[t][0],\n",
        "                                                                      cs[t][0], \n",
        "                                                                      dhnext[0], \n",
        "                                                                      dcnext[0], \n",
        "                                                                      0)\n",
        "    self.clip_grads()\n",
        "\n",
        "    return loss, hs[len(input[0])-1], cs[len(input[0])-1]\n",
        "\n",
        "\n",
        "\n",
        "  # Function to display updated output to console\n",
        "  def update_status(self, epoch, batch, len_x, smooth_loss):\n",
        "    # Clear and plot\n",
        "    fig, axs = plt.subplots(2, 2, figsize= (10,10))\n",
        "    axs[0, 0].plot(self.plot_iter, self.plot_loss)\n",
        "    axs[0, 0].set_title('Cross Entropy Loss')\n",
        "    axs[0, 0].set_xlabel(\"Steps\")\n",
        "    axs[0, 0].set_ylabel(\"Loss\")\n",
        "\n",
        "    axs[0, 1].plot(self.plot_iter, self.smt_loss, color = 'orange')\n",
        "    axs[0, 1].set_title('Smooth Loss')\n",
        "    axs[0, 1].set_xlabel(\"Steps\")\n",
        "    axs[0, 1].set_ylabel(\"Loss\")\n",
        "\n",
        "    axs[1, 0].plot(self.train_accuracy, marker='o', color = 'green')\n",
        "    axs[1, 0].set_title('Train Data Accuracy')\n",
        "    axs[1, 0].set_xlabel(\"Epoch\")\n",
        "    axs[1, 0].set_ylabel(\"Accuracy [%]\")\n",
        "\n",
        "    axs[1, 1].plot(self.test_accuracy, marker='o', color = 'red')\n",
        "    axs[1, 1].set_title('Test Data Accuracy')\n",
        "    axs[1, 1].set_xlabel(\"Epoch\")\n",
        "    axs[1, 1].set_ylabel(\"Accuracy [%]\")\n",
        "\n",
        "    display.clear_output(wait=True)\n",
        "    plt.show()\n",
        "\n",
        "    print('Train Epoch: {} [{}/{} ({:.0f}%)]\\tLoss: {:.6f}'.format(\n",
        "        epoch, batch, len_x, 100. * batch / len_x, smooth_loss))\n",
        "    \n",
        "\n",
        "  def train(self, X_dataset, Y_dataset, smooth_loss, epoch):\n",
        "    # For each dataset \n",
        "    for batch in range(len(X_dataset)):\n",
        "      with DelayedKeyboardInterrupt():\n",
        "        hprev = np.empty(self.lstm_layers, dtype=object)\n",
        "        cprev = np.empty(self.lstm_layers, dtype=object)\n",
        "        for i in range(self.lstm_layers):\n",
        "          hprev[i] = np.zeros((self.hidden_size,1))\n",
        "          cprev[i] = np.zeros((self.hidden_size,1))\n",
        "\n",
        "        loss, hprev, cprev = self.modified_lossFun_LSTM_MNIST(X_dataset[batch], Y_dataset[batch], hprev, cprev)\n",
        "        # Update overall loss function\n",
        "        smooth_loss = smooth_loss * 0.999 + loss * 0.001\n",
        "        \n",
        "        # perform parameter update with Adagrad\n",
        "        self.adagrad_optimizer()\n",
        "\n",
        "\n",
        "        if batch % 200 == 0:\n",
        "          self.plot_iter = np.append(self.plot_iter, [batch+epoch*len(Y_dataset)])\n",
        "          self.plot_loss = np.append(self.plot_loss, [loss])\n",
        "          self.smt_loss = np.append(self.smt_loss, [smooth_loss])\n",
        "\n",
        "          self.update_status(epoch, batch, len(X_dataset), smooth_loss)\n",
        "\n",
        "    return smooth_loss\n",
        "  \n",
        "\n",
        "  def test(self, X_dataset, Y_dataset):\n",
        "    test_loss = 0\n",
        "    correct = 0\n",
        "    \n",
        "    for i in range(len(X_dataset)):\n",
        "      predicted = self.samle_LSTM_MNIST(X_dataset[i])\n",
        "      if(predicted == Y_dataset[i]):\n",
        "        correct = correct + 1\n",
        "      \n",
        "    print('Total Correct: {}/{} ({:.3f}%)'.format(correct, len(Y_dataset), correct/len(Y_dataset) *100.0))\n",
        "\n",
        "    return correct/len(Y_dataset)\n",
        "\n"
      ],
      "metadata": {
        "id": "bBzFREnEcrsc"
      },
      "execution_count": 270,
      "outputs": []
    },
    {
      "cell_type": "code",
      "source": [
        "import numpy as np\n",
        "from urllib import request\n",
        "import gzip\n",
        "import pickle\n",
        "\n",
        "filename = [\n",
        "[\"training_images\",\"train-images-idx3-ubyte.gz\"],\n",
        "[\"test_images\",\"t10k-images-idx3-ubyte.gz\"],\n",
        "[\"training_labels\",\"train-labels-idx1-ubyte.gz\"],\n",
        "[\"test_labels\",\"t10k-labels-idx1-ubyte.gz\"]\n",
        "]\n",
        "\n",
        "def download_mnist():\n",
        "    base_url = \"http://yann.lecun.com/exdb/mnist/\"\n",
        "    for name in filename:\n",
        "        print(\"Downloading \"+name[1]+\"...\")\n",
        "        request.urlretrieve(base_url+name[1], name[1])\n",
        "    print(\"Download complete.\")\n",
        "\n",
        "def save_mnist():\n",
        "    mnist = {}\n",
        "    for name in filename[:2]:\n",
        "        with gzip.open(name[1], 'rb') as f:\n",
        "            mnist[name[0]] = np.frombuffer(f.read(), np.uint8, offset=16).reshape(-1,28,28)\n",
        "    for name in filename[-2:]:\n",
        "        with gzip.open(name[1], 'rb') as f:\n",
        "            mnist[name[0]] = np.frombuffer(f.read(), np.uint8, offset=8)\n",
        "    with open(\"mnist.pkl\", 'wb') as f:\n",
        "        pickle.dump(mnist,f)\n",
        "    print(\"Save complete.\")\n",
        "\n",
        "def init():\n",
        "    download_mnist()\n",
        "    save_mnist()\n",
        "    \n",
        "def load():\n",
        "    with open(\"mnist.pkl\",'rb') as f:\n",
        "        mnist = pickle.load(f)\n",
        "    return mnist[\"training_images\"], mnist[\"training_labels\"], mnist[\"test_images\"], mnist[\"test_labels\"]\n",
        "\n",
        "# https://www.kaggle.com/berrywell/calculating-mnist-inverted-mnist-mean-std\n",
        "def load_normalized():\n",
        "    with open(\"mnist.pkl\",'rb') as f:\n",
        "        mnist = pickle.load(f)\n",
        "    mnist_train_mean, mnist_train_std = mnist[\"training_images\"].mean(), mnist[\"training_images\"].flatten().std()\n",
        "    mnist_test_mean, mnist_test_std = mnist[\"test_images\"].flatten().mean(), mnist[\"test_images\"].flatten().std()\n",
        "    \n",
        "    all_data = np.concatenate((mnist[\"training_images\"], mnist[\"test_images\"]), axis = 0)\n",
        "    mnist_all_mean, mnist_all_std = all_data.flatten().mean(), all_data.flatten().std()\n",
        "\n",
        "    print('MNIST train mean: {}, std: {}'.format(mnist_train_mean, mnist_train_std))\n",
        "    print('MNIST test mean: {}, std: {}'.format(mnist_test_mean, mnist_test_std))\n",
        "    print('MNIST all mean: {}, std: {}'.format(mnist_all_mean, mnist_all_std))\n",
        "    return np.round_((mnist[\"training_images\"]-mnist_all_mean)/(mnist_all_std), decimals=4), mnist[\"training_labels\"], np.round_((mnist[\"test_images\"]-mnist_all_mean)/(mnist_all_std), decimals=4), mnist[\"test_labels\"]\n",
        "\n",
        "if __name__ == '__main__':\n",
        "    init()"
      ],
      "metadata": {
        "colab": {
          "base_uri": "https://localhost:8080/"
        },
        "id": "i0D_zfbh4ani",
        "outputId": "e306afb7-8a57-430a-9ea5-b1f8c3c272d2"
      },
      "execution_count": 271,
      "outputs": [
        {
          "output_type": "stream",
          "name": "stdout",
          "text": [
            "Downloading train-images-idx3-ubyte.gz...\n",
            "Downloading t10k-images-idx3-ubyte.gz...\n",
            "Downloading train-labels-idx1-ubyte.gz...\n",
            "Downloading t10k-labels-idx1-ubyte.gz...\n",
            "Download complete.\n",
            "Save complete.\n"
          ]
        }
      ]
    },
    {
      "cell_type": "code",
      "source": [
        "print(\"Load MNIST Dataset: \")\n",
        "x_train, y_train, x_test, y_test = load_normalized()"
      ],
      "metadata": {
        "colab": {
          "base_uri": "https://localhost:8080/"
        },
        "id": "U5fij6fEcNvF",
        "outputId": "58e7e4e8-5ddb-48dd-e4e3-b3d43d22f935"
      },
      "execution_count": 272,
      "outputs": [
        {
          "output_type": "stream",
          "name": "stdout",
          "text": [
            "Load MNIST Dataset: \n",
            "MNIST train mean: 33.318421449829934, std: 78.56748998339798\n",
            "MNIST test mean: 33.791224489795916, std: 79.17246322228644\n",
            "MNIST all mean: 33.385964741253645, std: 78.6543736268941\n"
          ]
        }
      ]
    },
    {
      "cell_type": "code",
      "source": [
        "print(\"Tranning Dataset Shape: \", x_train.shape)\n",
        "print(\"Testing Dataset Shape: \",x_test.shape)"
      ],
      "metadata": {
        "colab": {
          "base_uri": "https://localhost:8080/"
        },
        "id": "32jmMGEOdIlE",
        "outputId": "dbbc815a-2713-48cb-bb58-f83011c67c12"
      },
      "execution_count": 273,
      "outputs": [
        {
          "output_type": "stream",
          "name": "stdout",
          "text": [
            "Tranning Dataset Shape:  (60000, 28, 28)\n",
            "Testing Dataset Shape:  (10000, 28, 28)\n"
          ]
        }
      ]
    },
    {
      "cell_type": "code",
      "source": [
        "#Plots of Sample Input and Output Data\n",
        "print(\"Sample Input and Output Data: \")\n",
        "print(\"==============================\")\n",
        "\n",
        "num_row = 2\n",
        "num_col = 5# plot images\n",
        "fig, axes = plt.subplots(num_row, num_col, figsize=(2*num_col,2*num_row))\n",
        "for i in range(10):\n",
        "    ax = axes[i//num_col, i%num_col]\n",
        "    ax.imshow(x_train[i].reshape(28,28), cmap='gray')\n",
        "    ax.set_title('Label: {}'.format(y_train[i]))\n",
        "      \n",
        "plt.tight_layout()\n",
        "plt.show()"
      ],
      "metadata": {
        "colab": {
          "base_uri": "https://localhost:8080/",
          "height": 335
        },
        "id": "QKAEsqbB5o0s",
        "outputId": "4e4b9e58-3d72-404e-9694-1253bf8e68ca"
      },
      "execution_count": 274,
      "outputs": [
        {
          "output_type": "stream",
          "name": "stdout",
          "text": [
            "Sample Input and Output Data: \n",
            "==============================\n"
          ]
        },
        {
          "output_type": "display_data",
          "data": {
            "image/png": "[encoded data removed]",
            "text/plain": [
              "<Figure size 720x288 with 10 Axes>"
            ]
          },
          "metadata": {}
        }
      ]
    },
    {
      "cell_type": "code",
      "source": [
        "print(\"Initialize LSTM Model for MNIST Digit Classification\")\n",
        "lstm = LSTM(100, 28, 10, 28, 1e-1, 0.1, 2)\n",
        "smooth_loss = -np.log(1.0/len(x_train))*len(x_train[0]) # loss at iteration 0"
      ],
      "metadata": {
        "colab": {
          "base_uri": "https://localhost:8080/"
        },
        "id": "egFR0-L1ZR5A",
        "outputId": "0f0ff5da-efcc-42cc-92d6-128a58075379"
      },
      "execution_count": 275,
      "outputs": [
        {
          "output_type": "stream",
          "name": "stdout",
          "text": [
            "Initialize LSTM Model for MNIST Digit Classification\n"
          ]
        }
      ]
    },
    {
      "cell_type": "code",
      "source": [
        "print(\"Smooth loss at iteration 0: \", smooth_loss)"
      ],
      "metadata": {
        "colab": {
          "base_uri": "https://localhost:8080/"
        },
        "id": "YZnTxylgMzH3",
        "outputId": "b138350d-acdf-4c48-b369-940e77312823"
      },
      "execution_count": 276,
      "outputs": [
        {
          "output_type": "stream",
          "name": "stdout",
          "text": [
            "Smooth loss at iteration 0:  308.05879555371865\n"
          ]
        }
      ]
    },
    {
      "cell_type": "code",
      "source": [
        "# Test and Train Accuracies before Trainning LSTM Model:\n",
        "print(\"Train Data Test Result: \")\n",
        "train_test = lstm.test(x_train, y_train)\n",
        "lstm.train_accuracy = np.append(lstm.train_accuracy, train_test*100.0)\n",
        "\n",
        "print(\"Test Data Test Result: \")\n",
        "test_test = lstm.test(x_test, y_test)\n",
        "lstm.test_accuracy = np.append(lstm.test_accuracy, test_test*100.0)\n"
      ],
      "metadata": {
        "colab": {
          "base_uri": "https://localhost:8080/"
        },
        "id": "8bVnPT9twbWF",
        "outputId": "16caa4f5-a054-4a50-c271-705292d36fd0"
      },
      "execution_count": 277,
      "outputs": [
        {
          "output_type": "stream",
          "name": "stdout",
          "text": [
            "Train Data Test Result: \n",
            "Total Correct: 5944/60000 (9.907%)\n",
            "Test Data Test Result: \n",
            "Total Correct: 993/10000 (9.930%)\n"
          ]
        }
      ]
    },
    {
      "cell_type": "code",
      "source": [
        "epochs = 3\n",
        "#Start Training:\n",
        "time0 = time.time()\n",
        "start_time = time.time()\n",
        "Total_Training_Time = 0\n",
        "\n",
        "for epoch in range(epochs):\n",
        "    smooth_loss = lstm.train(x_train, y_train, smooth_loss, epoch)\n",
        "    Total_Training_Time += (time.time() - start_time)\n",
        "    \n",
        "    train_test = lstm.test(x_train, y_train)\n",
        "    lstm.train_accuracy = np.append(lstm.train_accuracy, train_test*100.0)\n",
        "    \n",
        "    print(\"Epoch: \", epoch,\" TRAIN DATA TESTING ACCURACY:\", train_test)\n",
        "\n",
        "    test_test = lstm.test(x_test, y_test)\n",
        "    lstm.test_accuracy = np.append(lstm.test_accuracy, test_test*100.0)\n",
        "\n",
        "    print(\"Epoch: \", epoch, \" TEST DATA TESTING ACCURACY: \", test_test)\n",
        "\n",
        "    print(\"Epoch: \",epoch,\" Training Time: \", Total_Training_Time, \" secs\")\n",
        "    print(\"Epoch: \",epoch,\" Execution Time: \", time.time()-time0, \" secs\")\n",
        "    start_time = time.time()"
      ],
      "metadata": {
        "id": "hNqKaJMDlV5d",
        "colab": {
          "base_uri": "https://localhost:8080/",
          "height": 739
        },
        "outputId": "d2e20076-c694-46a3-89cf-26cf80246eaf"
      },
      "execution_count": 278,
      "outputs": [
        {
          "output_type": "display_data",
          "data": {
            "image/png": "[encoded data removed]",
            "text/plain": [
              "<Figure size 720x720 with 4 Axes>"
            ]
          },
          "metadata": {}
        },
        {
          "output_type": "stream",
          "name": "stdout",
          "text": [
            "Train Epoch: 2 [59800/60000 (100%)]\tLoss: 0.064903\n",
            "Total Correct: 58137/60000 (96.895%)\n",
            "Epoch:  2  TRAIN DATA TESTING ACCURACY: 0.96895\n",
            "Total Correct: 9648/10000 (96.480%)\n",
            "Epoch:  2  TEST DATA TESTING ACCURACY:  0.9648\n",
            "Epoch:  2  Training Time:  6546.390764951706  secs\n",
            "Epoch:  2  Execution Time:  8117.671349287033  secs\n"
          ]
        }
      ]
    },
    {
      "cell_type": "code",
      "source": [
        "for i in range(3):\n",
        "  print('Epoch: {}, Train Data Accuracy: {}, Test Data Accuracy: {}'.format(i, lstm.test_accuracy[i], lstm.train_accuracy[i]))\n"
      ],
      "metadata": {
        "colab": {
          "base_uri": "https://localhost:8080/"
        },
        "id": "1IPpDhl_Trnv",
        "outputId": "750f7919-7459-4346-bf35-14a900b88c45"
      },
      "execution_count": 279,
      "outputs": [
        {
          "output_type": "stream",
          "name": "stdout",
          "text": [
            "Epoch: 0, Train Data Accuracy: 9.93, Test Data Accuracy: 9.906666666666666\n",
            "Epoch: 1, Train Data Accuracy: 92.31, Test Data Accuracy: 92.25\n",
            "Epoch: 2, Train Data Accuracy: 95.09, Test Data Accuracy: 95.45833333333333\n"
          ]
        }
      ]
    },
    {
      "cell_type": "code",
      "source": [
        "fig, axs = plt.subplots(2, 2, figsize= (10,10))\n",
        "axs[0, 0].plot(lstm.plot_iter, lstm.plot_loss)\n",
        "axs[0, 0].set_title('Cross Entropy Loss')\n",
        "axs[0, 0].set_xlabel(\"Steps\")\n",
        "axs[0, 0].set_ylabel(\"Loss\")\n",
        "\n",
        "axs[0, 1].plot(lstm.plot_iter, lstm.smt_loss, color = 'orange')\n",
        "axs[0, 1].set_title('Smooth Loss')\n",
        "axs[0, 1].set_xlabel(\"Steps\")\n",
        "axs[0, 1].set_ylabel(\"Loss\")\n",
        "\n",
        "axs[1, 0].plot(lstm.train_accuracy, marker='o', color = 'green')\n",
        "axs[1, 0].set_title('Train Data Accuracy')\n",
        "axs[1, 0].set_xlabel(\"Epoch\")\n",
        "axs[1, 0].set_ylabel(\"Accuracy [%]\")\n",
        "\n",
        "axs[1, 1].plot(lstm.test_accuracy, marker='o', color = 'red')\n",
        "axs[1, 1].set_title('Test Data Accuracy')\n",
        "axs[1, 1].set_xlabel(\"Epoch\")\n",
        "axs[1, 1].set_ylabel(\"Accuracy [%]\")\n",
        "\n",
        "plt.show()"
      ],
      "metadata": {
        "colab": {
          "base_uri": "https://localhost:8080/",
          "height": 617
        },
        "id": "0dFL2FUpTYXm",
        "outputId": "73ef689a-d447-4ad5-ae80-316105057ea9"
      },
      "execution_count": 280,
      "outputs": [
        {
          "output_type": "display_data",
          "data": {
            "image/png": "[encoded data removed]",
            "text/plain": [
              "<Figure size 720x720 with 4 Axes>"
            ]
          },
          "metadata": {}
        }
      ]
    },
    {
      "cell_type": "code",
      "source": [
        "print(\"Train Data Accuracy after Epoch 2: \",lstm.train_accuracy[-1])\n",
        "print(\"Test Data Accuracy after Epoch 2: \",lstm.test_accuracy[-1])"
      ],
      "metadata": {
        "colab": {
          "base_uri": "https://localhost:8080/"
        },
        "id": "9JTy7ogyU2vA",
        "outputId": "c015c92a-6117-4445-eb6f-801d96f54440"
      },
      "execution_count": 282,
      "outputs": [
        {
          "output_type": "stream",
          "name": "stdout",
          "text": [
            "Train Data Accuracy after Epoch 2:  96.895\n",
            "Test Data Accuracy after Epoch 2:  96.48\n"
          ]
        }
      ]
    }
  ]
}