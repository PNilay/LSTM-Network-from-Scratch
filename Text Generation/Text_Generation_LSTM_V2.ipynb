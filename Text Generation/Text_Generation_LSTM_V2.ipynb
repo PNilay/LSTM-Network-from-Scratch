{
  "nbformat": 4,
  "nbformat_minor": 0,
  "metadata": {
    "colab": {
      "name": "Text_Generation_LSTM_V2.ipynb",
      "provenance": [],
      "collapsed_sections": []
    },
    "kernelspec": {
      "name": "python3",
      "display_name": "Python 3"
    },
    "language_info": {
      "name": "python"
    }
  },
  "cells": [
    {
      "cell_type": "markdown",
      "source": [
        "#One to Many - Multi Layer - LSTM Model (Text Generation)"
      ],
      "metadata": {
        "id": "E8MILotU4oSo"
      }
    },
    {
      "cell_type": "code",
      "execution_count": 30,
      "metadata": {
        "id": "CqNHuQ0WbjTF"
      },
      "outputs": [],
      "source": [
        "import numpy as np\n",
        "%matplotlib inline\n",
        "import matplotlib.pyplot as plt\n",
        "from IPython import display\n",
        "plt.style.use('seaborn-white')\n",
        "import time"
      ]
    },
    {
      "cell_type": "code",
      "source": [
        "#Signal Class to handle keybord interrupts\n",
        "import signal\n",
        "\n",
        "class DelayedKeyboardInterrupt(object):\n",
        "    def __enter__(self):\n",
        "        self.signal_received = False\n",
        "        self.old_handler = signal.signal(signal.SIGINT, self.handler)\n",
        "\n",
        "    def handler(self, sig, frame):\n",
        "        self.signal_received = (sig, frame)\n",
        "        print('SIGINT received. Delaying KeyboardInterrupt.')\n",
        "\n",
        "    def __exit__(self, type, value, traceback):\n",
        "        signal.signal(signal.SIGINT, self.old_handler)\n",
        "        if self.signal_received:\n",
        "            self.old_handler(*self.signal_received)"
      ],
      "metadata": {
        "id": "8afav49FWo2r"
      },
      "execution_count": 31,
      "outputs": []
    },
    {
      "cell_type": "code",
      "source": [
        "# Create Parameter class to store weights, biases and their gradients (Similar to Tensor)\n",
        "class Parameter:\n",
        "  def __init__(self, name, value):\n",
        "    self.name = name\n",
        "    self.value = value #parameter value\n",
        "    self.grad = np.zeros_like(value) #derivative\n",
        "    self.m_grad = np.zeros_like(value) #momentum for AdaGrad (memory variables for Adagrad)\n",
        "\n",
        "  def __repr__(self):\n",
        "    return \"Parameter [name = \" + self.name + \", value.shape = \"+ str(self.value.shape) +\"]\"\n",
        "\n",
        "  def zero_grad(self):\n",
        "    self.grad = np.zeros_like(self.value)"
      ],
      "metadata": {
        "id": "TIBBNWMdbufN"
      },
      "execution_count": 32,
      "outputs": []
    },
    {
      "cell_type": "code",
      "source": [
        "class LSTM_Parameters:\n",
        "  def __init__ (self, hidden_size, input_size, output_size):\n",
        "    self.W_f = Parameter('W_f', np.random.randn(hidden_size, input_size+hidden_size)*0.01)#INPUT to hidden layer of forgot gate [input_size+hidden_size, hidden_size]\n",
        "    self.W_i = Parameter('W_i', np.random.randn(hidden_size, input_size+hidden_size)*0.01) #INPUT to hidden layer of input gate [vocal_size+hidden_size, hidden_size]\n",
        "    self.W_g = Parameter('W_g', np.random.randn(hidden_size, input_size+hidden_size)*0.01) #INPUT to hidden layer of  gate [vocal_size+hidden_size, hidden_size]\n",
        "    self.W_o = Parameter('W_o', np.random.randn(hidden_size, input_size+hidden_size)*0.01) #INPUT to hidden layer of output gate [vocal_size+hidden_size, hidden_size]\n",
        "    self.W_hy = Parameter('W_hy', np.random.randn(output_size, hidden_size)*0.01) #hidden to output [hidden_size, input_size]\n",
        "\n",
        "    self.b_f = Parameter('b_f',np.zeros((hidden_size, 1)))  #(hidden_size X 1)\n",
        "    self.b_i = Parameter('b_i',np.zeros((hidden_size, 1)))  #(hidden_size X 1)\n",
        "    self.b_g = Parameter('b_g',np.zeros((hidden_size, 1)))  #(hidden_size X 1)\n",
        "    self.b_o = Parameter('b_o',np.zeros((hidden_size, 1)))  #(hidden_size X 1)\n",
        "    self.b_hy = Parameter('b_hy',np.zeros((output_size,1))) #output layer bias [hidden_size,1]\n",
        "  \n",
        "  def zero_grad(self):\n",
        "    for p in [self.W_f, self.W_i, self.W_g, self.W_o, self.W_hy,self.b_f, self.b_i, self.b_g, self.b_o, self.b_hy]:\n",
        "      p.zero_grad()\n",
        "  \n",
        "  def clip_grad(self):\n",
        "    for g in [self.W_f, self.W_i, self.W_g, self.W_o, self.W_hy,self.b_f, self.b_i, self.b_g, self.b_o, self.b_hy]:\n",
        "      np.clip(g.grad, -1, 1, out=g.grad) # clip to mitigate exploding gradients\n",
        "  \n",
        "  def adagrad_optimizer(self, learning_rate = 1e-1):\n",
        "    for p in [self.W_f, self.W_i, self.W_g, self.W_o, self.W_hy,self.b_f, self.b_i, self.b_g, self.b_o, self.b_hy]:\n",
        "      p.m_grad += p.grad * p.grad\n",
        "      p.value += -learning_rate * p.grad / np.sqrt(p.m_grad + 1e-8) # adagrad update\n",
        "      "
      ],
      "metadata": {
        "id": "q4WNzqAd8vDE"
      },
      "execution_count": 33,
      "outputs": []
    },
    {
      "cell_type": "code",
      "source": [
        "# LSTM Class to store all the weights and biases\n",
        "class LSTM:\n",
        "  def __init__(self, hidden_size, input_size, sequence_length, learning_rate = 1e-1, weight_sd = 0.1, lstm_layers = 1):\n",
        "    self.hidden_size = hidden_size\n",
        "    self.input_size = input_size\n",
        "    self.sequence_length = sequence_length;\n",
        "    self.learning_rate = learning_rate;\n",
        "    self.weight_sd = weight_sd;\n",
        "    self.lstm_layers = lstm_layers;\n",
        "    self.lstm_parameters = []\n",
        "    self.lstm_parameters.append(LSTM_Parameters(hidden_size, input_size, input_size))\n",
        "\n",
        "    for i in range(1,lstm_layers):\n",
        "      print(i)\n",
        "      self.lstm_parameters.append(LSTM_Parameters(hidden_size, hidden_size, input_size))\n",
        "\n",
        "    self.plot_iter = np.zeros((0))\n",
        "    self.plot_loss = np.zeros((0))\n",
        "    self.smt_loss = np.zeros((0))\n",
        "\n",
        "\n",
        "  def __repr__(self):\n",
        "    return \"LSTM: [input_size = \"+str(self.input_size) +\", hidden_size = \"+ str(self.hidden_size)+\", sequence_length = \"+str(self.sequence_length)+\", lstm_layers = \"+str(self.lstm_layers)+\", learning_rate = \"+str(self.learning_rate)+\"]\"\n",
        "  \n",
        "  def zero_grads(self):\n",
        "    for i in range(self.lstm_layers):\n",
        "      self.lstm_parameters[i].zero_grad()\n",
        "  \n",
        "  def clip_grads(self):\n",
        "    for i in range(self.lstm_layers):\n",
        "      self.lstm_parameters[i].clip_grad()\n",
        "\n",
        "  def adagrad_optimizer(self):\n",
        "    for i in range(self.lstm_layers):\n",
        "      self.lstm_parameters[i].adagrad_optimizer()\n",
        "\n",
        "  # Sigmoid Function:\n",
        "  def sigmoid(self,x):\n",
        "    return 1 / (1 + np.exp(-x))\n",
        "  \n",
        "  def text_generation_LSTM_cell_forward(self, input, h_prev, c_prev, layer):\n",
        "    # Stack h and x together\n",
        "    inp = np.vstack((h_prev, input)) # h before x\n",
        "\n",
        "    # Forward Pass through four gates of LSTM\n",
        "    f = self.sigmoid(np.dot(self.lstm_parameters[layer].W_f.value, inp) + self.lstm_parameters[layer].b_f.value)\n",
        "    i = self.sigmoid(np.dot(self.lstm_parameters[layer].W_i.value, inp) + self.lstm_parameters[layer].b_i.value)\n",
        "    g = np.tanh(np.dot(self.lstm_parameters[layer].W_g.value, inp) + self.lstm_parameters[layer].b_g.value)\n",
        "    o = self.sigmoid(np.dot(self.lstm_parameters[layer].W_o.value, inp)+self.lstm_parameters[layer].b_o.value)\n",
        "\n",
        "    # Calulate cell state: (Element Wise multiplication and addition)\n",
        "    c_t = np.multiply(c_prev, f) + np.multiply(i, g)\n",
        "    c_tanh = np.tanh(c_t)\n",
        "    h_t = np.multiply(c_tanh,o)   #ht generated for current timestemp (hidden_size X 1)\n",
        "\n",
        "    return h_t, c_t, f, i, g, o\n",
        "\n",
        "  def text_generation_LSTM_cell_calculate_y(self, h_t, layer):\n",
        "    # Calculate y \n",
        "    y = np.dot(self.lstm_parameters[layer].W_hy.value, h_t) + self.lstm_parameters[layer].b_hy.value #y before passing through softmax function (input_size X 1)\n",
        "    \n",
        "    # softmax function:\n",
        "    p = np.exp(y) / np.sum(np.exp(y)) # (input_size X 1)\n",
        "    return y, p\n",
        "\n",
        "  def text_generation_modified_forward(self, input, h_prev, c_prev):\n",
        "    h_t, c_t, f_t, i_t, g_t, o_t = np.empty(self.lstm_layers, dtype=object), np.empty(self.lstm_layers, dtype=object), np.empty(self.lstm_layers, dtype=object), np.empty(self.lstm_layers, dtype=object), np.empty(self.lstm_layers, dtype=object),np.empty(self.lstm_layers, dtype=object)\n",
        "    \n",
        "    for i in range(self.lstm_layers):\n",
        "      h_t[i], c_t[i], f_t[i], i_t[i], g_t[i], o_t[i] = self.text_generation_LSTM_cell_forward(input, h_prev[i], c_prev[i], i)\n",
        "      input = h_t[i]\n",
        "    \n",
        "    y, p = self.text_generation_LSTM_cell_calculate_y(h_t[self.lstm_layers-1], self.lstm_layers-1)\n",
        "\n",
        "    return h_t, c_t, f_t, i_t, g_t, o_t, y, p\n",
        "\n",
        "\n",
        "  def forward(self, input, h_prev, c_prev):\n",
        "    # Stack h and x together\n",
        "    inp = np.vstack((h_prev, input)) # h before x\n",
        "\n",
        "    # Forward Pass through four gates of LSTM\n",
        "    f = self.sigmoid(np.dot(self.lstm_parameters.W_f.value, inp) + self.lstm_parameters.b_f.value)\n",
        "    i = self.sigmoid(np.dot(self.lstm_parameters.W_i.value, inp) + self.lstm_parameters.b_i.value)\n",
        "    g = np.tanh(np.dot(self.lstm_parameters.W_g.value, inp) + self.lstm_parameters.b_g.value)\n",
        "    o = self.sigmoid(np.dot(self.lstm_parameters.W_o.value, inp)+self.lstm_parameters.b_o.value)\n",
        "\n",
        "    # Calulate cell state: (Element Wise multiplication and addition)\n",
        "    c_t = np.multiply(c_prev, f) + np.multiply(i, g)\n",
        "    c_tanh = np.tanh(c_t)\n",
        "    h_t = np.multiply(c_tanh,o)   #ht generated for current timestemp (hidden_size X 1)\n",
        "    # Calculate y \n",
        "    y = np.dot(self.lstm_parameters.W_hy.value, h_t) + self.lstm_parameters.b_hy.value #y before passing through softmax function (input_size X 1)\n",
        "    # softmax function:\n",
        "    p = np.exp(y) / np.sum(np.exp(y)) # (input_size X 1)\n",
        "    return h_t, c_t, y, p, f, i, g, o\n",
        "\n",
        "  # Multiple Layer\n",
        "  def text_generation_modified_sample_LSTM(self, h_prev, c_prev, seed_ix, sequence_length):\n",
        "    # Prepare initial input for LSTM\n",
        "    x = np.zeros((self.input_size,1))\n",
        "    x[seed_ix] = 1\n",
        "\n",
        "    h_t = h_prev\n",
        "    c_t = c_prev\n",
        "\n",
        "    ixes = []\n",
        "    for t in range(sequence_length):\n",
        "      h_t, c_t, _, _, _, _, _, p = self.text_generation_modified_forward(x, h_t, c_t)\n",
        "\n",
        "      #get index of maximum probability\n",
        "      ix = np.random.choice(range(self.input_size), p=p.ravel())\n",
        "      \n",
        "      x = np.zeros((self.input_size, 1))\n",
        "      x[ix] = 1\n",
        "      ixes.append(ix)\n",
        "\n",
        "    return ixes\n",
        "\n",
        "  # Single Layer\n",
        "  def sample_LSTM(self, h_prev, c_prev, seed_ix, sequence_length):\n",
        "    # Prepare initial input for LSTM\n",
        "    x = np.zeros((self.input_size,1))\n",
        "    x[seed_ix] = 1\n",
        "\n",
        "    h_t = h_prev\n",
        "    c_t = c_prev\n",
        "\n",
        "    ixes = []\n",
        "    for t in range(sequence_length):\n",
        "      h_t, c_t, _, p, _, _, _, _ = self.forward(x, h_t, c_t)\n",
        "\n",
        "      #get index of maximum probability\n",
        "      ix = np.random.choice(range(self.input_size), p=p.ravel())\n",
        "      \n",
        "      x = np.zeros((self.input_size, 1))\n",
        "      x[ix] = 1\n",
        "      ixes.append(ix)\n",
        "\n",
        "    return ixes\n",
        "\n",
        "  def LSTM_cell_backpropogation(self,cs_prev, hs_prev, xs, o_s, f_s, g_s, i_s, cs, dh_next, dc_next, layer):\n",
        "    dc_tanh = dh_next * o_s # dL/dc_tanh\n",
        "    dct = dc_tanh*(1-(np.tanh(cs)**2)) + dc_next # dL/dct -->dct\n",
        "\n",
        "    dcnext = dct*f_s #dL/dc_(t-1)\n",
        "\n",
        "    inp = np.vstack((hs_prev, xs)) # h before x\n",
        "\n",
        "    #Output Gate\n",
        "    d_ot = dh_next*np.tanh(cs)\n",
        "    dW_o_row = d_ot * (o_s*(1-o_s))\n",
        "    self.lstm_parameters[layer].W_o.grad += np.dot(dW_o_row, inp.T)\n",
        "    self.lstm_parameters[layer].b_o.grad += dW_o_row\n",
        "\n",
        "    #Forget Gate\n",
        "    d_ft = dct*cs_prev\n",
        "    dW_f_row = d_ft * (f_s*(1-f_s))\n",
        "    self.lstm_parameters[layer].W_f.grad += np.dot(dW_f_row,inp.T)\n",
        "    self.lstm_parameters[layer].b_f.grad += dW_f_row\n",
        "\n",
        "    #Input Gate\n",
        "    d_it = dct*g_s\n",
        "    dW_i_row = d_it * (i_s*(1-i_s))\n",
        "    self.lstm_parameters[layer].W_i.grad += np.dot(dW_i_row,inp.T)\n",
        "    self.lstm_parameters[layer].b_i.grad += dW_i_row\n",
        "\n",
        "    #Activation Gate\n",
        "    d_gt = dct*i_s\n",
        "    dW_g_row = d_gt * (1-(g_s**2))\n",
        "    self.lstm_parameters[layer].W_g.grad += np.dot(dW_g_row,inp.T)\n",
        "    self.lstm_parameters[layer].b_g.grad += dW_g_row\n",
        "    \n",
        "    dhnext = np.dot(self.lstm_parameters[layer].W_o.value[:, 0:hidden_size].T, dW_o_row) + np.dot(self.lstm_parameters[layer].W_f.value[:, 0:hidden_size].T, dW_f_row) + np.dot(self.lstm_parameters[layer].W_i.value[:, 0:hidden_size].T, dW_i_row) + np.dot(self.lstm_parameters[layer].W_g.value[:, 0:hidden_size].T, dW_g_row)\n",
        "\n",
        "    dxnext = np.dot(self.lstm_parameters[layer].W_o.value[:, hidden_size:].T, dW_o_row) + np.dot(self.lstm_parameters[layer].W_f.value[:, hidden_size:].T, dW_f_row) + np.dot(self.lstm_parameters[layer].W_i.value[:, hidden_size:].T, dW_i_row) + np.dot(self.lstm_parameters[layer].W_g.value[:, hidden_size:].T, dW_g_row)\n",
        "\n",
        "    return dhnext, dcnext, dxnext\n",
        "\n",
        "  def text_generation_modified_lossFun_LSTM(self, inputs, targets, hprev, cprev):\n",
        "    # Dictonary to store inputs, outputs, and probabilities on each state\n",
        "    xs, ys, ps = {}, {}, {}\n",
        "\n",
        "    #Dictonary of Array of Arrays to store hidden states, cell states, f, i,g,and o for each layer and state\n",
        "    hs, cs, f_s, i_s, g_s, o_s = {}, {}, {}, {}, {}, {}\n",
        "\n",
        "    #store the hidden state and cell state at time stemp t-1\n",
        "    hs[-1] = np.copy(hprev)\n",
        "    cs[-1] = np.copy(cprev)\n",
        "\n",
        "    # Initialize loss\n",
        "    loss = 0\n",
        "\n",
        "    # forward pass\n",
        "    for t in range(len(targets)):\n",
        "\n",
        "      xs[t] = np.zeros((self.input_size,1)) # encode in 1-of-k representation\n",
        "      xs[t][inputs[t]] = 1\n",
        "\n",
        "      # Forward pass:\n",
        "      hs[t], cs[t], f_s[t], i_s[t], g_s[t], o_s[t], ys[t], ps[t] = self.text_generation_modified_forward(xs[t], hs[t-1], cs[t-1])\n",
        "\n",
        "      #Cross Entropy Loss\n",
        "      loss += -np.log(ps[t][targets[t],0]) # softmax (cross-entropy loss)\n",
        "\n",
        "    self.zero_grads()\n",
        "\n",
        "    dhnext = np.empty(self.lstm_layers, dtype=object)\n",
        "    dcnext = np.empty(self.lstm_layers, dtype=object)\n",
        "    for i in range(self.lstm_layers):\n",
        "      dhnext[i] = np.zeros((self.hidden_size,1)) # reset LSTM memory\n",
        "      dcnext[i] = np.zeros((self.hidden_size,1)) # reset LSTM cell memory\n",
        "\n",
        "\n",
        "    #Backward loop: t = len(targets) to 0\n",
        "    for t in reversed(range(len(targets))):      \n",
        "      #Calculate Loss between actual and predicted\n",
        "      dy = np.copy(ps[t])\n",
        "      dy[targets[t]] -= 1\n",
        "      \n",
        "      # ht to y\n",
        "      self.lstm_parameters[self.lstm_layers-1].W_hy.grad += np.dot(dy, hs[t][self.lstm_layers-1].T) #dWhy += np.dot(Output_Delta, Hidden_Layer.T)\n",
        "      self.lstm_parameters[self.lstm_layers-1].b_hy.grad += dy # bias += sum(Output_Delta)\n",
        "\n",
        "      dhnext[self.lstm_layers-1] += np.dot(self.lstm_parameters[self.lstm_layers-1].W_hy.value.T, dy) # backprop into h ===> dL/dht --> dht\n",
        "\n",
        "      for layer in reversed(range(1, self.lstm_layers)):\n",
        "        dhnext[layer], dcnext[layer], dxnext = self.LSTM_cell_backpropogation(cs[t-1][layer], \n",
        "                                                                      hs[t-1][layer],\n",
        "                                                                      hs[t][layer-1], \n",
        "                                                                      o_s[t][layer],\n",
        "                                                                      f_s[t][layer], \n",
        "                                                                      g_s[t][layer], \n",
        "                                                                      i_s[t][layer],\n",
        "                                                                      cs[t][layer], \n",
        "                                                                      dhnext[layer], \n",
        "                                                                      dcnext[layer], \n",
        "                                                                      layer)\n",
        "        dhnext[layer-1] += dxnext\n",
        "      \n",
        "      dhnext[0], dcnext[0],_ = self.LSTM_cell_backpropogation(cs[t-1][0], \n",
        "                                                                      hs[t-1][0],\n",
        "                                                                      xs[t], \n",
        "                                                                      o_s[t][0],\n",
        "                                                                      f_s[t][0], \n",
        "                                                                      g_s[t][0], \n",
        "                                                                      i_s[t][0],\n",
        "                                                                      cs[t][0], \n",
        "                                                                      dhnext[0], \n",
        "                                                                      dcnext[0], \n",
        "                                                                      0)\n",
        "    self.clip_grads()\n",
        "\n",
        "    return loss, hs[len(targets)-1], cs[len(targets)-1]\n",
        "    \n",
        "  # Function to display updated output to console\n",
        "  def text_generation_update_status(self, batch, len_x, smooth_loss, epoch):\n",
        "\n",
        "    fig, (ax1, ax2) = plt.subplots(1, 2)\n",
        "    fig.suptitle('Iteration  VS Loss')\n",
        "    ax1.plot(self.plot_iter, self.plot_loss)\n",
        "    ax2.plot(self.plot_iter, self.smt_loss) #Iteration VS Smooth Loss\n",
        "\n",
        "    display.clear_output(wait=True)\n",
        "    plt.show()\n",
        "\n",
        "    print('Train Epoch: {} [{:.0f}/{:.0f} ({:.0f}%)]\\tLoss: {:.6f}'.format(\n",
        "        epoch, batch, len_x, 100. * batch / len_x, smooth_loss))\n",
        "\n",
        "\n",
        "  def train_text_generation(self, data, smooth_loss, epoch, char_to_idx, idx_to_char):\n",
        "    ptr = 0 #Pointer to track current location in data \n",
        "    iteration = 0\n",
        "    while True:\n",
        "      with DelayedKeyboardInterrupt():\n",
        "        # Initialize hidden and cell state for input\n",
        "        hprev = np.empty(self.lstm_layers, dtype=object)\n",
        "        cprev = np.empty(self.lstm_layers, dtype=object)\n",
        "        for i in range(self.lstm_layers):\n",
        "          hprev[i] = np.zeros((self.hidden_size,1))\n",
        "          cprev[i] = np.zeros((self.hidden_size,1))\n",
        "\n",
        "        if ptr+self.sequence_length+1 >= len(data):\n",
        "          return smooth_loss\n",
        "          \n",
        "        inputs = [char_to_idx[ch] for ch in data[ptr:ptr+self.sequence_length]]\n",
        "        targets = [char_to_idx[ch] for ch in data[ptr+1:ptr+self.sequence_length+1]]\n",
        "\n",
        "        loss, hprev, cprev = self.text_generation_modified_lossFun_LSTM(inputs, targets, hprev, cprev)\n",
        "\n",
        "        # Update overall loss function\n",
        "        smooth_loss = smooth_loss * 0.999 + loss * 0.001\n",
        "        \n",
        "\n",
        "        if iteration % 200 == 0:\n",
        "          self.plot_iter = np.append(self.plot_iter, [iteration+epoch*np.floor(len(data)/self.sequence_length)])\n",
        "          self.plot_loss = np.append(self.plot_loss, [loss])\n",
        "          self.smt_loss = np.append(self.smt_loss, [smooth_loss])\n",
        "\n",
        "          self.text_generation_update_status(iteration, np.floor(len(data)/self.sequence_length), smooth_loss, epoch)\n",
        "\n",
        "          self.test_text_generation(inputs[0], 200, idx_to_char)\n",
        "\n",
        "        # perform parameter update with Adagrad\n",
        "        self.adagrad_optimizer()\n",
        "        \n",
        "        ptr += self.sequence_length # move data pointer\n",
        "        iteration += 1\n",
        "\n",
        "    return smooth_loss\n",
        "\n",
        "  def test_text_generation(self, seed_idx, output_len, idx_to_char):\n",
        "    # Initialize hidden and cell state for input\n",
        "    hprev = np.empty(self.lstm_layers, dtype=object)\n",
        "    cprev = np.empty(self.lstm_layers, dtype=object)\n",
        "    for i in range(self.lstm_layers):\n",
        "      hprev[i] = np.zeros((self.hidden_size,1))\n",
        "      cprev[i] = np.zeros((self.hidden_size,1))\n",
        "\n",
        "    sample_ix = self.text_generation_modified_sample_LSTM(hprev, cprev, seed_idx, output_len)\n",
        "    txt = ''.join(idx_to_char[ix] for ix in sample_ix)\n",
        "    print(\"txt: \", txt) #'----\\n %s \\n----' % (txt, )\n",
        "    return txt"
      ],
      "metadata": {
        "id": "bBzFREnEcrsc"
      },
      "execution_count": 34,
      "outputs": []
    },
    {
      "cell_type": "code",
      "source": [
        "def text_generation_data_preprocessing(data):\n",
        "  chars = list(set(data)) # all unique characters in the text file\n",
        "  data_size, vocab_size = len(data), len(chars) #size of all the content in text file and total number of unique characters\n",
        "\n",
        "  char_to_idx = {ch:i for i, ch in enumerate(chars)} #Chracter directory with index number\n",
        "  idx_to_char = {i:ch for i, ch in enumerate(chars)} #index to unique character mapping\n",
        "  \n",
        "  return char_to_idx, idx_to_char, data_size, vocab_size"
      ],
      "metadata": {
        "id": "DI44gozyY9Iq"
      },
      "execution_count": 35,
      "outputs": []
    },
    {
      "cell_type": "code",
      "source": [
        "#hyper-parameters\n",
        "hidden_size = 100 #size of hidden layer of neurons\n",
        "seq_length = 25 #number of steps to unroll the RNN for\n",
        "learning_rate = 1e-1\n",
        "weight_sd = 0.1 #weight_sd = 0.1 # Standard deviation of weights for initialization\n",
        "layer = 2"
      ],
      "metadata": {
        "id": "ny8-gHlIirBx"
      },
      "execution_count": 36,
      "outputs": []
    },
    {
      "cell_type": "code",
      "source": [
        "data = open('input.txt', 'r').read()\n",
        "\n",
        "char_to_idx, idx_to_char, data_size, vocab_size = text_generation_data_preprocessing(data)\n",
        "\n",
        "print('data size: ', data_size, \"\\nvocab size: \", vocab_size)\n",
        "print(\"char to index: \", char_to_idx, \"\\nindex to char: \", idx_to_char)"
      ],
      "metadata": {
        "colab": {
          "base_uri": "https://localhost:8080/"
        },
        "id": "-8x_-ZKmXPQt",
        "outputId": "fe869ebe-5981-4a71-a7ea-48df963e105b"
      },
      "execution_count": 37,
      "outputs": [
        {
          "output_type": "stream",
          "name": "stdout",
          "text": [
            "data size:  99993 \n",
            "vocab size:  62\n",
            "char to index:  {'v': 0, 'c': 1, 'l': 2, \"'\": 3, 'A': 4, 'P': 5, 'n': 6, 'J': 7, 'E': 8, 'x': 9, 'F': 10, 'B': 11, 'h': 12, 'W': 13, 'm': 14, 'o': 15, ';': 16, '?': 17, 'I': 18, 'b': 19, ':': 20, ',': 21, '-': 22, 'Q': 23, 'V': 24, 'd': 25, 's': 26, 'p': 27, '!': 28, 'y': 29, 'X': 30, 'z': 31, 'R': 32, 'U': 33, 'S': 34, 'u': 35, '.': 36, 'L': 37, 'M': 38, 'C': 39, 'H': 40, 'O': 41, '\\n': 42, 'N': 43, 'K': 44, ' ': 45, 'a': 46, 'G': 47, 'Z': 48, 'e': 49, 'f': 50, 'j': 51, 'k': 52, 'q': 53, 'g': 54, 'r': 55, 't': 56, 'T': 57, 'i': 58, 'Y': 59, 'w': 60, 'D': 61} \n",
            "index to char:  {0: 'v', 1: 'c', 2: 'l', 3: \"'\", 4: 'A', 5: 'P', 6: 'n', 7: 'J', 8: 'E', 9: 'x', 10: 'F', 11: 'B', 12: 'h', 13: 'W', 14: 'm', 15: 'o', 16: ';', 17: '?', 18: 'I', 19: 'b', 20: ':', 21: ',', 22: '-', 23: 'Q', 24: 'V', 25: 'd', 26: 's', 27: 'p', 28: '!', 29: 'y', 30: 'X', 31: 'z', 32: 'R', 33: 'U', 34: 'S', 35: 'u', 36: '.', 37: 'L', 38: 'M', 39: 'C', 40: 'H', 41: 'O', 42: '\\n', 43: 'N', 44: 'K', 45: ' ', 46: 'a', 47: 'G', 48: 'Z', 49: 'e', 50: 'f', 51: 'j', 52: 'k', 53: 'q', 54: 'g', 55: 'r', 56: 't', 57: 'T', 58: 'i', 59: 'Y', 60: 'w', 61: 'D'}\n"
          ]
        }
      ]
    },
    {
      "cell_type": "code",
      "source": [
        "lstm = LSTM(hidden_size, vocab_size, seq_length, learning_rate, weight_sd, layer)  "
      ],
      "metadata": {
        "colab": {
          "base_uri": "https://localhost:8080/"
        },
        "id": "eAaOxyywX1dI",
        "outputId": "355c2db0-68f6-4159-cdf5-958840be4671"
      },
      "execution_count": 38,
      "outputs": [
        {
          "output_type": "stream",
          "name": "stdout",
          "text": [
            "1\n"
          ]
        }
      ]
    },
    {
      "cell_type": "code",
      "source": [
        "#Loss at Iteration 0:\n",
        "smooth_loss = -np.log(1.0/vocab_size)*seq_length # loss at iteration 0\n",
        "print(\"Smooth Loss: \", smooth_loss)"
      ],
      "metadata": {
        "colab": {
          "base_uri": "https://localhost:8080/"
        },
        "id": "1_brEXVSi2gW",
        "outputId": "c032b4c8-6cc1-4267-cea8-ab77386b530c"
      },
      "execution_count": 39,
      "outputs": [
        {
          "output_type": "stream",
          "name": "stdout",
          "text": [
            "Smooth Loss:  103.17835962612729\n"
          ]
        }
      ]
    },
    {
      "cell_type": "code",
      "source": [
        "# Text Generation model output before training \n",
        "print(\"Text Generation Before Trainning: \")\n",
        "print(\"========================================================\")\n",
        "lstm.test_text_generation(19, 500, idx_to_char)\n"
      ],
      "metadata": {
        "colab": {
          "base_uri": "https://localhost:8080/",
          "height": 212
        },
        "id": "8KDuHbcmr2xS",
        "outputId": "5be2b7ba-003e-40d8-8ed2-c1e86f31aa5c"
      },
      "execution_count": 40,
      "outputs": [
        {
          "output_type": "stream",
          "name": "stdout",
          "text": [
            "Text Generation Before Trainning: \n",
            "========================================================\n",
            "txt:  ltpgL-wdT;AthBaInqN!bqeu ;.'bijT:NQUo.JURRnXfTogqKkztzuNyzlTEOGnvqkQKCrQT.OUTPkRjx MflIXWb.pg!wiumAUjEgs;DHgwKg;:R;yTGNQhLtbSN:FTYS pgKLMxP?v'HX-Eiih:Z.FhMVGnFRQnRkszdRF\n",
            "XkdgbOr,sqYxTWvCPj;RMwMOLHfEV;GwmLabrj!ki,mZ!fibt:zK?hZCXZOyLuyXAjpMOTAINKmUaZcNpOCMktqzwMVSOpJJ.mR-LxIj:\n",
            "IWiVeVGQxQNXTFZYVldHyxbd\n",
            "giyCpeTwv!WTjjJ,RaIdHVZoZf:;UsNTpxZdOTaTqAPDLheTOMf wUM-VhzwCoqb;jJ;yhYYQEVrHyoFjvyOW;nMbyv:bUJNUGxLignpcm?YFz-hS.FJGTkrOWWgsr.wTkZoP?FwOsoF o-t:fXG'EzMUqkAKt-:dahpKTZhOyuSNFQbtutTWPVGfNDzfLHvWJI;w-Z\n"
          ]
        },
        {
          "output_type": "execute_result",
          "data": {
            "application/vnd.google.colaboratory.intrinsic+json": {
              "type": "string"
            },
            "text/plain": [
              "\"ltpgL-wdT;AthBaInqN!bqeu ;.'bijT:NQUo.JURRnXfTogqKkztzuNyzlTEOGnvqkQKCrQT.OUTPkRjx MflIXWb.pg!wiumAUjEgs;DHgwKg;:R;yTGNQhLtbSN:FTYS pgKLMxP?v'HX-Eiih:Z.FhMVGnFRQnRkszdRF\\nXkdgbOr,sqYxTWvCPj;RMwMOLHfEV;GwmLabrj!ki,mZ!fibt:zK?hZCXZOyLuyXAjpMOTAINKmUaZcNpOCMktqzwMVSOpJJ.mR-LxIj:\\nIWiVeVGQxQNXTFZYVldHyxbd\\ngiyCpeTwv!WTjjJ,RaIdHVZoZf:;UsNTpxZdOTaTqAPDLheTOMf wUM-VhzwCoqb;jJ;yhYYQEVrHyoFjvyOW;nMbyv:bUJNUGxLignpcm?YFz-hS.FJGTkrOWWgsr.wTkZoP?FwOsoF o-t:fXG'EzMUqkAKt-:dahpKTZhOyuSNFQbtutTWPVGfNDzfLHvWJI;w-Z\""
            ]
          },
          "metadata": {},
          "execution_count": 40
        }
      ]
    },
    {
      "cell_type": "code",
      "source": [
        "epochs = 10\n",
        "#Start Training:\n",
        "time0 = time.time()\n",
        "start_time = time.time()\n",
        "Total_Training_Time = 0\n",
        "for epoch in range(epochs):\n",
        "    smooth_loss = lstm.train_text_generation(data, smooth_loss, epoch, char_to_idx, idx_to_char)\n",
        "    Total_Training_Time += (time.time() - start_time)\n",
        "    lstm.test_text_generation(19, 500, idx_to_char)\n",
        "    print(\"Epoch: \",epoch,\" Training Time: \", Total_Training_Time, \" secs\")\n",
        "    start_time = time.time()"
      ],
      "metadata": {
        "colab": {
          "base_uri": "https://localhost:8080/",
          "height": 728
        },
        "id": "z65D0vmkUkj6",
        "outputId": "ce4f1f08-4965-4440-809c-7da339c515a4"
      },
      "execution_count": 41,
      "outputs": [
        {
          "output_type": "display_data",
          "data": {
            "image/png": "[encoded data removed]",
            "text/plain": [
              "<Figure size 432x288 with 2 Axes>"
            ]
          },
          "metadata": {}
        },
        {
          "output_type": "stream",
          "name": "stdout",
          "text": [
            "Train Epoch: 9 [3800/3999 (95%)]\tLoss: 41.229962\n",
            "txt:  nning words:\n",
            "Been you would anm\n",
            "I the disat: a chosore it\n",
            "Jigas,\n",
            "They woren encish.\n",
            "\n",
            "ANTHELLO:\n",
            "Hath a chalews miscondse atter your lipt thy husband till this, swealdm, ap well down a'll to a kond.\n",
            "Of \n",
            "txt:  usighfee of bruy me drike poor strund fee, crate,\n",
            "Whts frongm'd ald make o arooklf th,ar!\n",
            "\n",
            "RESMERNICIO:\n",
            "Was would a justman:\n",
            "Marry, it tadk my pinir:\n",
            "He's shall the 'over first for the serveds, No, it we days, some a to frature and dless of sawer; if she thee. :y reving intonn man: you hass huds's me\n",
            "shard Dlaventenot fast our atfant so go, gaves another may my.\n",
            "\n",
            "WARK ANEES:\n",
            "I'll pervy as deed cnazed to, cluse peidons fay ever they have letsly that I am sevenge:\n",
            "But Tut-o hour tellow\n",
            "That a are \n",
            "Epoch:  9  Training Time:  1103.7695529460907  secs\n"
          ]
        }
      ]
    }
  ]
}